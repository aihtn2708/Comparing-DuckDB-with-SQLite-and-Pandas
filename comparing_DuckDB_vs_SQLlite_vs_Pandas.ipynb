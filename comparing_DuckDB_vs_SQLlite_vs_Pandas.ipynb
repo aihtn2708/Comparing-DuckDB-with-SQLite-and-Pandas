{
  "nbformat": 4,
  "nbformat_minor": 0,
  "metadata": {
    "colab": {
      "provenance": [],
      "authorship_tag": "ABX9TyMVvQt8kmTi5yjaMk3SSvGp",
      "include_colab_link": true
    },
    "kernelspec": {
      "name": "python3",
      "display_name": "Python 3"
    },
    "language_info": {
      "name": "python"
    }
  },
  "cells": [
    {
      "cell_type": "markdown",
      "metadata": {
        "id": "view-in-github",
        "colab_type": "text"
      },
      "source": [
        "<a href=\"https://colab.research.google.com/github/aihtn2708/Comparing-DuckDB-with-SQLite-and-Pandas/blob/main/comparing_DuckDB_vs_SQLlite_vs_Pandas.ipynb\" target=\"_parent\"><img src=\"https://colab.research.google.com/assets/colab-badge.svg\" alt=\"Open In Colab\"/></a>"
      ]
    },
    {
      "cell_type": "markdown",
      "source": [
        "# Setup\n",
        "\n",
        "We'll use the same dataset to demonstrate querying speed, ease of use, and functionality across DuckDB, SQLite, and Pandas."
      ],
      "metadata": {
        "id": "-Au4NiVL9Shp"
      }
    },
    {
      "cell_type": "code",
      "execution_count": null,
      "metadata": {
        "colab": {
          "base_uri": "https://localhost:8080/"
        },
        "id": "l0-DZfbjWo-H",
        "outputId": "55e5c5d8-a24c-4419-9e97-a7d91cecc2f2"
      },
      "outputs": [
        {
          "output_type": "stream",
          "name": "stdout",
          "text": [
            "Requirement already satisfied: duckdb in /usr/local/lib/python3.10/dist-packages (1.1.3)\n"
          ]
        }
      ],
      "source": [
        "pip install duckdb"
      ]
    },
    {
      "cell_type": "code",
      "source": [
        "import duckdb\n",
        "import sqlite3\n",
        "import pandas as pd\n",
        "import time"
      ],
      "metadata": {
        "id": "ed7dshGaRzBL"
      },
      "execution_count": null,
      "outputs": []
    },
    {
      "cell_type": "markdown",
      "source": [
        "[link to sample file](https://drive.google.com/file/d/10rwNjAeeJPKhk0VYWrMSAfg8xVSVaIHY/view?usp=drive_link)"
      ],
      "metadata": {
        "id": "XuPwFjNvA1dG"
      }
    },
    {
      "cell_type": "code",
      "source": [
        "from google.colab import drive\n",
        "drive.mount('/content/drive/')\n",
        "%cd /content/drive/My Drive/Colab Notebooks/Data/"
      ],
      "metadata": {
        "colab": {
          "base_uri": "https://localhost:8080/"
        },
        "id": "36kENtKM9zBR",
        "outputId": "97c2e672-9965-478f-c2c0-6508b2ad83c5"
      },
      "execution_count": null,
      "outputs": [
        {
          "output_type": "stream",
          "name": "stdout",
          "text": [
            "Drive already mounted at /content/drive/; to attempt to forcibly remount, call drive.mount(\"/content/drive/\", force_remount=True).\n",
            "/content/drive/My Drive/Colab Notebooks/Data\n"
          ]
        }
      ]
    },
    {
      "cell_type": "markdown",
      "source": [
        "# Load Example Dataset\n",
        "We'll use a CSV file for this comparison (e.g., sales_data.csv)."
      ],
      "metadata": {
        "id": "fX6prnV-9k-c"
      }
    },
    {
      "cell_type": "markdown",
      "source": [
        "First, let see the result with a small dataset"
      ],
      "metadata": {
        "id": "R_Y7f9XJBfLI"
      }
    },
    {
      "cell_type": "code",
      "source": [
        "\n",
        "# Load the dataset from CSV\n",
        "file_path = 'sales_data.csv'  # Ensure this file path points to your dataset\n",
        "df = pd.read_csv(file_path)\n",
        "\n",
        "# Function to time operations\n",
        "def time_operation(operation):\n",
        "    start_time = time.time()\n",
        "    result = operation()\n",
        "    elapsed_time = time.time() - start_time\n",
        "    return result, elapsed_time\n",
        "\n",
        "# Compare Operations\n",
        "results = {}\n",
        "\n",
        "# Pandas Operation\n",
        "def pandas_query():\n",
        "    # Example Query: Calculate average conversion rate (%) for each marketing campaign\n",
        "    return df.groupby(\"Marketing Campaign\")[\"Conversion Rate (%)\"].mean()\n",
        "\n",
        "results[\"Pandas\"], time_pandas = time_operation(pandas_query)\n",
        "\n",
        "# DuckDB Operation\n",
        "duckdb_conn = duckdb.connect()\n",
        "duckdb_conn.execute(\"CREATE TABLE sales_data AS SELECT * FROM read_csv_auto(?)\", (file_path,))\n",
        "def duckdb_query():\n",
        "    # Example Query: Calculate average conversion rate (%) for each marketing campaign\n",
        "    return duckdb_conn.execute(\"\"\"\n",
        "        SELECT \"Marketing Campaign\", AVG(\"Conversion Rate (%)\") AS avg_conversion_rate\n",
        "        FROM sales_data\n",
        "        GROUP BY \"Marketing Campaign\"\n",
        "    \"\"\").fetchdf()\n",
        "\n",
        "results[\"DuckDB\"], time_duckdb = time_operation(duckdb_query)\n",
        "\n",
        "# SQLite Operation\n",
        "sqlite_conn = sqlite3.connect(':memory:')\n",
        "df.to_sql(\"sales_data\", sqlite_conn, if_exists=\"replace\", index=False)\n",
        "def sqlite_query():\n",
        "    # Example Query: Calculate average conversion rate (%) for each marketing campaign\n",
        "    return pd.read_sql(\"\"\"\n",
        "        SELECT \"Marketing Campaign\", AVG(\"Conversion Rate (%)\") AS avg_conversion_rate\n",
        "        FROM sales_data\n",
        "        GROUP BY \"Marketing Campaign\"\n",
        "    \"\"\", sqlite_conn)\n",
        "\n",
        "results[\"SQLite\"], time_sqlite = time_operation(sqlite_query)\n",
        "\n",
        "# Display Results\n",
        "print(\"Pandas Query Time:\", time_pandas)\n",
        "print(\"DuckDB Query Time:\", time_duckdb)\n",
        "print(\"SQLite Query Time:\", time_sqlite)\n",
        "\n",
        "for key, result in results.items():\n",
        "    print(f\"\\n{key} Results:\\n\", result)"
      ],
      "metadata": {
        "colab": {
          "base_uri": "https://localhost:8080/"
        },
        "id": "k_Pmlt_a9rvz",
        "outputId": "bc2bed54-b4c2-4302-b29d-3061c85ca581"
      },
      "execution_count": null,
      "outputs": [
        {
          "output_type": "stream",
          "name": "stdout",
          "text": [
            "Pandas Query Time: 0.011635065078735352\n",
            "DuckDB Query Time: 0.011954069137573242\n",
            "SQLite Query Time: 0.0018494129180908203\n",
            "\n",
            "Pandas Results:\n",
            " Marketing Campaign\n",
            "Fall Sales Campaign    17.592000\n",
            "New Year Campaign      17.620253\n",
            "Spring Promo 2024      16.875576\n",
            "Summer Deals 2024      17.270130\n",
            "Winter Promo 2023      17.187348\n",
            "Name: Conversion Rate (%), dtype: float64\n",
            "\n",
            "DuckDB Results:\n",
            "     Marketing Campaign  avg_conversion_rate\n",
            "0  Fall Sales Campaign            17.592000\n",
            "1    Summer Deals 2024            17.270130\n",
            "2    Spring Promo 2024            16.875576\n",
            "3    Winter Promo 2023            17.187348\n",
            "4    New Year Campaign            17.620253\n",
            "\n",
            "SQLite Results:\n",
            "     Marketing Campaign  avg_conversion_rate\n",
            "0  Fall Sales Campaign            17.592000\n",
            "1    New Year Campaign            17.620253\n",
            "2    Spring Promo 2024            16.875576\n",
            "3    Summer Deals 2024            17.270130\n",
            "4    Winter Promo 2023            17.187348\n"
          ]
        }
      ]
    },
    {
      "cell_type": "code",
      "source": [],
      "metadata": {
        "id": "kCfdYsgqDvYj"
      },
      "execution_count": null,
      "outputs": []
    },
    {
      "cell_type": "markdown",
      "source": [
        "# Try with **NYC Taxi Trip Data**\n",
        "\n",
        "*   setup below is for downloading directly from kaggle\n",
        "\n"
      ],
      "metadata": {
        "id": "GCzM0STXF7Pi"
      }
    },
    {
      "cell_type": "code",
      "source": [
        "Set up kaggle"
      ],
      "metadata": {
        "id": "fM6p2uytGA7n"
      },
      "execution_count": null,
      "outputs": []
    },
    {
      "cell_type": "code",
      "source": [
        "!mkdir -p ~/.kaggle"
      ],
      "metadata": {
        "id": "hWV0tRo5BlTl"
      },
      "execution_count": null,
      "outputs": []
    },
    {
      "cell_type": "code",
      "source": [
        "!cp kaggle.json ~/.kaggle/\n",
        "!chmod 600 ~/.kaggle/kaggle.json"
      ],
      "metadata": {
        "id": "PJRkUx5EDzxz"
      },
      "execution_count": null,
      "outputs": []
    },
    {
      "cell_type": "code",
      "source": [
        "!chmod 600 ~/.kaggle/kaggle.json"
      ],
      "metadata": {
        "id": "b1PJIy0BE7Wn"
      },
      "execution_count": null,
      "outputs": []
    },
    {
      "cell_type": "code",
      "source": [
        "!pip install kaggle"
      ],
      "metadata": {
        "colab": {
          "base_uri": "https://localhost:8080/"
        },
        "id": "7-8EkjVVFAtB",
        "outputId": "330e1c78-bfd4-4dac-e401-e2ea01e2abd8"
      },
      "execution_count": null,
      "outputs": [
        {
          "output_type": "stream",
          "name": "stdout",
          "text": [
            "Requirement already satisfied: kaggle in /usr/local/lib/python3.10/dist-packages (1.6.17)\n",
            "Requirement already satisfied: six>=1.10 in /usr/local/lib/python3.10/dist-packages (from kaggle) (1.17.0)\n",
            "Requirement already satisfied: certifi>=2023.7.22 in /usr/local/lib/python3.10/dist-packages (from kaggle) (2024.12.14)\n",
            "Requirement already satisfied: python-dateutil in /usr/local/lib/python3.10/dist-packages (from kaggle) (2.8.2)\n",
            "Requirement already satisfied: requests in /usr/local/lib/python3.10/dist-packages (from kaggle) (2.32.3)\n",
            "Requirement already satisfied: tqdm in /usr/local/lib/python3.10/dist-packages (from kaggle) (4.67.1)\n",
            "Requirement already satisfied: python-slugify in /usr/local/lib/python3.10/dist-packages (from kaggle) (8.0.4)\n",
            "Requirement already satisfied: urllib3 in /usr/local/lib/python3.10/dist-packages (from kaggle) (2.2.3)\n",
            "Requirement already satisfied: bleach in /usr/local/lib/python3.10/dist-packages (from kaggle) (6.2.0)\n",
            "Requirement already satisfied: webencodings in /usr/local/lib/python3.10/dist-packages (from bleach->kaggle) (0.5.1)\n",
            "Requirement already satisfied: text-unidecode>=1.3 in /usr/local/lib/python3.10/dist-packages (from python-slugify->kaggle) (1.3)\n",
            "Requirement already satisfied: charset-normalizer<4,>=2 in /usr/local/lib/python3.10/dist-packages (from requests->kaggle) (3.4.0)\n",
            "Requirement already satisfied: idna<4,>=2.5 in /usr/local/lib/python3.10/dist-packages (from requests->kaggle) (3.10)\n"
          ]
        }
      ]
    },
    {
      "cell_type": "code",
      "source": [
        "!kaggle datasets download -d elemento/nyc-yellow-taxi-trip-data"
      ],
      "metadata": {
        "colab": {
          "base_uri": "https://localhost:8080/"
        },
        "id": "9FbdeEkgFDmZ",
        "outputId": "b14c6107-a6dd-4789-9cbd-395baa5c8116"
      },
      "execution_count": null,
      "outputs": [
        {
          "output_type": "stream",
          "name": "stdout",
          "text": [
            "Dataset URL: https://www.kaggle.com/datasets/elemento/nyc-yellow-taxi-trip-data\n",
            "License(s): U.S. Government Works\n",
            "Downloading nyc-yellow-taxi-trip-data.zip to /content/drive/MyDrive/Colab Notebooks/Data\n",
            " 99% 1.77G/1.78G [00:28<00:00, 54.2MB/s]\n",
            "100% 1.78G/1.78G [00:28<00:00, 66.4MB/s]\n"
          ]
        }
      ]
    },
    {
      "cell_type": "code",
      "source": [
        "!unzip nyc-yellow-taxi-trip-data.zip"
      ],
      "metadata": {
        "colab": {
          "base_uri": "https://localhost:8080/"
        },
        "id": "tloLkbFdF2YS",
        "outputId": "eb425f7d-ebab-44f6-9a0f-80d5697ebb82"
      },
      "execution_count": null,
      "outputs": [
        {
          "output_type": "stream",
          "name": "stdout",
          "text": [
            "Archive:  nyc-yellow-taxi-trip-data.zip\n",
            "  inflating: yellow_tripdata_2015-01.csv  \n",
            "  inflating: yellow_tripdata_2016-01.csv  \n",
            "  inflating: yellow_tripdata_2016-02.csv  \n",
            "  inflating: yellow_tripdata_2016-03.csv  \n"
          ]
        }
      ]
    },
    {
      "cell_type": "markdown",
      "source": [
        "# Sample data of NYC Taxi Trip Data"
      ],
      "metadata": {
        "id": "F5nKHllPRpM7"
      }
    },
    {
      "cell_type": "code",
      "source": [
        "data = pd.read_csv('yellow_tripdata_2016-03.csv')"
      ],
      "metadata": {
        "id": "KKUB5BrdFaHW"
      },
      "execution_count": null,
      "outputs": []
    },
    {
      "cell_type": "code",
      "source": [
        "data.count()"
      ],
      "metadata": {
        "colab": {
          "base_uri": "https://localhost:8080/",
          "height": 209
        },
        "id": "yeRiPyk8SBy_",
        "outputId": "80fc2106-7b43-482c-ddd2-c000f9c7537c"
      },
      "execution_count": null,
      "outputs": [
        {
          "output_type": "execute_result",
          "data": {
            "text/plain": [
              "VendorID           1048575\n",
              "TripID             1048575\n",
              "passenger_count    1048575\n",
              "trip_distance      1048575\n",
              "dtype: int64"
            ],
            "text/html": [
              "<div>\n",
              "<style scoped>\n",
              "    .dataframe tbody tr th:only-of-type {\n",
              "        vertical-align: middle;\n",
              "    }\n",
              "\n",
              "    .dataframe tbody tr th {\n",
              "        vertical-align: top;\n",
              "    }\n",
              "\n",
              "    .dataframe thead th {\n",
              "        text-align: right;\n",
              "    }\n",
              "</style>\n",
              "<table border=\"1\" class=\"dataframe\">\n",
              "  <thead>\n",
              "    <tr style=\"text-align: right;\">\n",
              "      <th></th>\n",
              "      <th>0</th>\n",
              "    </tr>\n",
              "  </thead>\n",
              "  <tbody>\n",
              "    <tr>\n",
              "      <th>VendorID</th>\n",
              "      <td>1048575</td>\n",
              "    </tr>\n",
              "    <tr>\n",
              "      <th>TripID</th>\n",
              "      <td>1048575</td>\n",
              "    </tr>\n",
              "    <tr>\n",
              "      <th>passenger_count</th>\n",
              "      <td>1048575</td>\n",
              "    </tr>\n",
              "    <tr>\n",
              "      <th>trip_distance</th>\n",
              "      <td>1048575</td>\n",
              "    </tr>\n",
              "  </tbody>\n",
              "</table>\n",
              "</div><br><label><b>dtype:</b> int64</label>"
            ]
          },
          "metadata": {},
          "execution_count": 5
        }
      ]
    },
    {
      "cell_type": "code",
      "source": [
        "import duckdb\n",
        "import sqlite3\n",
        "import pandas as pd\n",
        "import time\n",
        "\n",
        "# Path to the dataset\n",
        "file_path = \"yellow_tripdata_2016-03.csv\"\n",
        "\n",
        "# Load dataset into Pandas\n",
        "print(\"Loading data into Pandas...\")\n",
        "df = pd.read_csv(file_path)\n",
        "\n",
        "# Function to time operations\n",
        "def time_operation(operation):\n",
        "    start_time = time.time()\n",
        "    result = operation()\n",
        "    elapsed_time = time.time() - start_time\n",
        "    return result, elapsed_time\n",
        "\n",
        "# Compare Operations\n",
        "results = {}\n",
        "\n",
        "# Pandas Operation\n",
        "def pandas_query():\n",
        "    # Example Query: Average trip distance per passenger count\n",
        "    return df.groupby(\"passenger_count\")[\"trip_distance\"].mean()\n",
        "\n",
        "results[\"Pandas\"], time_pandas = time_operation(pandas_query)\n",
        "\n",
        "# DuckDB Operation\n",
        "print(\"Loading data into DuckDB...\")\n",
        "duckdb_conn = duckdb.connect()\n",
        "duckdb_conn.execute(\"CREATE TABLE trips AS SELECT * FROM read_csv_auto(?)\", (file_path,))\n",
        "\n",
        "def duckdb_query():\n",
        "    # Example Query: Average trip distance per passenger count\n",
        "    return duckdb_conn.execute(\"\"\"\n",
        "        SELECT passenger_count, AVG(trip_distance) AS avg_trip_distance\n",
        "        FROM trips\n",
        "        GROUP BY passenger_count\n",
        "    \"\"\").fetchdf()\n",
        "\n",
        "results[\"DuckDB\"], time_duckdb = time_operation(duckdb_query)\n",
        "\n",
        "# SQLite Operation\n",
        "print(\"Loading data into SQLite...\")\n",
        "sqlite_conn = sqlite3.connect(':memory:')\n",
        "df.to_sql(\"trips\", sqlite_conn, if_exists=\"replace\", index=False)\n",
        "\n",
        "def sqlite_query():\n",
        "    # Example Query: Average trip distance per passenger count\n",
        "    return pd.read_sql(\"\"\"\n",
        "        SELECT passenger_count, AVG(trip_distance) AS avg_trip_distance\n",
        "        FROM trips\n",
        "        GROUP BY passenger_count\n",
        "    \"\"\", sqlite_conn)\n",
        "\n",
        "results[\"SQLite\"], time_sqlite = time_operation(sqlite_query)\n",
        "\n",
        "# Display Results\n",
        "print(\"\\nQuery Execution Times:\")\n",
        "print(\"Pandas Query Time:\", time_pandas)\n",
        "print(\"DuckDB Query Time:\", time_duckdb)\n",
        "print(\"SQLite Query Time:\", time_sqlite)\n",
        "\n",
        "print(\"\\nResults:\")\n",
        "for key, result in results.items():\n",
        "    print(f\"\\n{key} Results:\\n\", result)\n"
      ],
      "metadata": {
        "colab": {
          "base_uri": "https://localhost:8080/"
        },
        "id": "Gq5Qiol0GV3l",
        "outputId": "946c7ea9-67b5-47e4-d248-43b22201772e"
      },
      "execution_count": null,
      "outputs": [
        {
          "output_type": "stream",
          "name": "stdout",
          "text": [
            "Loading data into Pandas...\n",
            "Loading data into DuckDB...\n",
            "Loading data into SQLite...\n",
            "\n",
            "Query Execution Times:\n",
            "Pandas Query Time: 0.03648972511291504\n",
            "DuckDB Query Time: 0.01524209976196289\n",
            "SQLite Query Time: 0.579315185546875\n",
            "\n",
            "Results:\n",
            "\n",
            "Pandas Results:\n",
            " passenger_count\n",
            "0     2.230400\n",
            "1     9.316340\n",
            "2     2.997320\n",
            "3     2.844738\n",
            "4     2.866102\n",
            "5     2.878796\n",
            "6     2.793079\n",
            "7    10.325000\n",
            "8     0.600000\n",
            "Name: trip_distance, dtype: float64\n",
            "\n",
            "DuckDB Results:\n",
            "    passenger_count  avg_trip_distance\n",
            "0                0           2.230400\n",
            "1                1           9.316340\n",
            "2                2           2.997320\n",
            "3                3           2.844738\n",
            "4                4           2.866102\n",
            "5                5           2.878796\n",
            "6                6           2.793079\n",
            "7                7          10.325000\n",
            "8                8           0.600000\n",
            "\n",
            "SQLite Results:\n",
            "    passenger_count  avg_trip_distance\n",
            "0                0           2.230400\n",
            "1                1           9.316340\n",
            "2                2           2.997320\n",
            "3                3           2.844738\n",
            "4                4           2.866102\n",
            "5                5           2.878796\n",
            "6                6           2.793079\n",
            "7                7          10.325000\n",
            "8                8           0.600000\n"
          ]
        }
      ]
    },
    {
      "cell_type": "markdown",
      "source": [
        "* DuckDB is highly suited for large-scale analytical tasks, especially in-memory operations and complex aggregations.\n",
        "* Pandas is a good choice for small to medium datasets where memory isn't a bottleneck.\n",
        "* SQLite remains a reliable lightweight database for transactional data but isn't the best tool for analytical processing on large datasets."
      ],
      "metadata": {
        "id": "QwrIjHdJSYiR"
      }
    }
  ]
}